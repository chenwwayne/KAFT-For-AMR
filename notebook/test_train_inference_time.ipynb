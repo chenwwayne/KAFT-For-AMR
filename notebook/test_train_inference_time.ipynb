{
 "cells": [
  {
   "cell_type": "code",
   "execution_count": 10,
   "metadata": {
    "colab": {
     "base_uri": "https://localhost:8080/"
    },
    "executionInfo": {
     "elapsed": 16403,
     "status": "ok",
     "timestamp": 1723682525402,
     "user": {
      "displayName": "陈炜炜",
      "userId": "02552472253823344680"
     },
     "user_tz": -480
    },
    "id": "CK0WlPEzaqAY",
    "outputId": "192cd6fd-2366-4175-a328-1de415302f7f"
   },
   "outputs": [],
   "source": [
    "import os\n",
    "import sys\n",
    "project_root = os.path.abspath(os.path.join(os.getcwd(), '..'))\n",
    "sys.path.append(project_root)\n",
    "import torch\n",
    "from kan.efficient_kan import KANLinear\n",
    "from kan.maternkan import MaternKANLayer\n",
    "from kan.mix_kan import KANEmbeddings as MKANFT\n",
    "from kan.fastkan import FastKANLayer\n"
   ]
  },
  {
   "cell_type": "code",
   "execution_count": 11,
   "metadata": {},
   "outputs": [],
   "source": [
    "eklayer = KANLinear(32, 192)\n",
    "matern0v5layer = MaternKANLayer(32, 192, nu=0.5)\n",
    "matern1v5layer = MaternKANLayer(32, 192, nu=1.5)\n",
    "matern2v5layer = MaternKANLayer(32, 192, nu=2.5)\n",
    "MKAFT0v5layer = MKANFT(32, 192)\n",
    "fastlayer = FastKANLayer(32, 192)\n",
    "x = torch.randn(64, 32)"
   ]
  },
  {
   "cell_type": "code",
   "execution_count": 12,
   "metadata": {
    "executionInfo": {
     "elapsed": 347,
     "status": "ok",
     "timestamp": 1723682546078,
     "user": {
      "displayName": "陈炜炜",
      "userId": "02552472253823344680"
     },
     "user_tz": -480
    },
    "id": "wO6VDoXfaqAa"
   },
   "outputs": [],
   "source": [
    "# eklayer = KANLinear(100, 100).cuda()\n",
    "# fklayer = GPKANLayer(100, 100).cuda()\n",
    "# x = torch.randn(8, 100).cuda()"
   ]
  },
  {
   "cell_type": "code",
   "execution_count": 13,
   "metadata": {
    "colab": {
     "base_uri": "https://localhost:8080/"
    },
    "executionInfo": {
     "elapsed": 11298,
     "status": "ok",
     "timestamp": 1723682559296,
     "user": {
      "displayName": "陈炜炜",
      "userId": "02552472253823344680"
     },
     "user_tz": -480
    },
    "id": "dAnveuOvaqAb",
    "outputId": "182e673b-de4d-4b2c-ef1f-232fc65f26a8"
   },
   "outputs": [
    {
     "name": "stdout",
     "output_type": "stream",
     "text": [
      "270 µs ± 45.7 µs per loop (mean ± std. dev. of 10 runs, 1,000 loops each)\n",
      "310 µs ± 4.78 µs per loop (mean ± std. dev. of 10 runs, 1,000 loops each)\n",
      "346 µs ± 2.71 µs per loop (mean ± std. dev. of 10 runs, 1,000 loops each)\n"
     ]
    }
   ],
   "source": [
    "# %timeit -r10 -n1000 y = eklayer(x)\n",
    "%timeit -r10 -n1000 y = matern0v5layer(x)\n",
    "%timeit -r10 -n1000 y = matern1v5layer(x)\n",
    "%timeit -r10 -n1000 y = matern2v5layer(x)"
   ]
  },
  {
   "cell_type": "code",
   "execution_count": 14,
   "metadata": {
    "colab": {
     "base_uri": "https://localhost:8080/"
    },
    "executionInfo": {
     "elapsed": 24010,
     "status": "ok",
     "timestamp": 1723682598369,
     "user": {
      "displayName": "陈炜炜",
      "userId": "02552472253823344680"
     },
     "user_tz": -480
    },
    "id": "4NHaRd9daqAb",
    "outputId": "9328ba75-e3e9-4e9b-b3f1-a01de249fa14"
   },
   "outputs": [
    {
     "name": "stdout",
     "output_type": "stream",
     "text": [
      "1.4 ms ± 523 µs per loop (mean ± std. dev. of 10 runs, 1,000 loops each)\n",
      "863 µs ± 342 µs per loop (mean ± std. dev. of 10 runs, 1,000 loops each)\n",
      "942 µs ± 134 µs per loop (mean ± std. dev. of 10 runs, 1,000 loops each)\n",
      "1.01 ms ± 26.2 µs per loop (mean ± std. dev. of 10 runs, 1,000 loops each)\n"
     ]
    }
   ],
   "source": [
    "%timeit -r10 -n1000 eklayer(x).sum().backward()\n",
    "%timeit -r10 -n1000 matern0v5layer(x).sum().backward()\n",
    "%timeit -r10 -n1000 matern1v5layer(x).sum().backward()\n",
    "%timeit -r10 -n1000 matern2v5layer(x).sum().backward()"
   ]
  }
 ],
 "metadata": {
  "colab": {
   "provenance": []
  },
  "kernelspec": {
   "display_name": "kan",
   "language": "python",
   "name": "python3"
  },
  "language_info": {
   "codemirror_mode": {
    "name": "ipython",
    "version": 3
   },
   "file_extension": ".py",
   "mimetype": "text/x-python",
   "name": "python",
   "nbconvert_exporter": "python",
   "pygments_lexer": "ipython3",
   "version": "3.9.19"
  }
 },
 "nbformat": 4,
 "nbformat_minor": 0
}
